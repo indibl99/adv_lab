{
 "cells": [
  {
   "cell_type": "code",
   "execution_count": 1,
   "metadata": {},
   "outputs": [],
   "source": [
    "import numpy as np\n",
    "import pandas as pd\n",
    "import matplotlib.pyplot as plt \n",
    "from scipy import optimize\n",
    "from scipy.stats import poisson\n",
    "import math"
   ]
  },
  {
   "cell_type": "code",
   "execution_count": 2,
   "metadata": {},
   "outputs": [],
   "source": [
    "#data = np.zeros(shape=num_ev, dtype=[('timeStamp','f4')\n",
    "data = pd.read_excel('/Users/user/Desktop/Bells_data_test.xlsx', dtype={'Name': str, 'Value': float})"
   ]
  },
  {
   "cell_type": "code",
   "execution_count": 3,
   "metadata": {},
   "outputs": [
    {
     "data": {
      "text/html": [
       "<div>\n",
       "<style scoped>\n",
       "    .dataframe tbody tr th:only-of-type {\n",
       "        vertical-align: middle;\n",
       "    }\n",
       "\n",
       "    .dataframe tbody tr th {\n",
       "        vertical-align: top;\n",
       "    }\n",
       "\n",
       "    .dataframe thead th {\n",
       "        text-align: right;\n",
       "    }\n",
       "</style>\n",
       "<table border=\"1\" class=\"dataframe\">\n",
       "  <thead>\n",
       "    <tr style=\"text-align: right;\">\n",
       "      <th></th>\n",
       "      <th>a_pc_0</th>\n",
       "      <th>b_pc_0</th>\n",
       "      <th>nc_pc_0_1</th>\n",
       "      <th>nc_pc_0_2</th>\n",
       "      <th>nc_pc_0_3</th>\n",
       "      <th>a_pc_45</th>\n",
       "      <th>b_pc_45</th>\n",
       "      <th>nc_pc_45_1</th>\n",
       "      <th>nc_pc_45_2</th>\n",
       "      <th>nc_pc_45_3</th>\n",
       "    </tr>\n",
       "  </thead>\n",
       "  <tbody>\n",
       "    <tr>\n",
       "      <th>0</th>\n",
       "      <td>0</td>\n",
       "      <td>0</td>\n",
       "      <td>1.9041</td>\n",
       "      <td>1.6957</td>\n",
       "      <td>1.6873</td>\n",
       "      <td>45</td>\n",
       "      <td>0</td>\n",
       "      <td>1.1696</td>\n",
       "      <td>1.1436</td>\n",
       "      <td>1.1823</td>\n",
       "    </tr>\n",
       "    <tr>\n",
       "      <th>1</th>\n",
       "      <td>0</td>\n",
       "      <td>10</td>\n",
       "      <td>1.6709</td>\n",
       "      <td>NaN</td>\n",
       "      <td>NaN</td>\n",
       "      <td>45</td>\n",
       "      <td>10</td>\n",
       "      <td>1.5181</td>\n",
       "      <td>1.4899</td>\n",
       "      <td>1.4951</td>\n",
       "    </tr>\n",
       "    <tr>\n",
       "      <th>2</th>\n",
       "      <td>0</td>\n",
       "      <td>20</td>\n",
       "      <td>1.5015</td>\n",
       "      <td>NaN</td>\n",
       "      <td>NaN</td>\n",
       "      <td>45</td>\n",
       "      <td>20</td>\n",
       "      <td>1.6194</td>\n",
       "      <td>1.6321</td>\n",
       "      <td>1.6187</td>\n",
       "    </tr>\n",
       "    <tr>\n",
       "      <th>3</th>\n",
       "      <td>0</td>\n",
       "      <td>30</td>\n",
       "      <td>1.2353</td>\n",
       "      <td>NaN</td>\n",
       "      <td>NaN</td>\n",
       "      <td>45</td>\n",
       "      <td>30</td>\n",
       "      <td>1.7549</td>\n",
       "      <td>1.7266</td>\n",
       "      <td>1.7649</td>\n",
       "    </tr>\n",
       "    <tr>\n",
       "      <th>4</th>\n",
       "      <td>0</td>\n",
       "      <td>40</td>\n",
       "      <td>0.9736</td>\n",
       "      <td>NaN</td>\n",
       "      <td>NaN</td>\n",
       "      <td>45</td>\n",
       "      <td>40</td>\n",
       "      <td>1.7856</td>\n",
       "      <td>1.7911</td>\n",
       "      <td>1.7772</td>\n",
       "    </tr>\n",
       "    <tr>\n",
       "      <th>5</th>\n",
       "      <td>0</td>\n",
       "      <td>50</td>\n",
       "      <td>0.7097</td>\n",
       "      <td>NaN</td>\n",
       "      <td>NaN</td>\n",
       "      <td>45</td>\n",
       "      <td>50</td>\n",
       "      <td>1.7226</td>\n",
       "      <td>1.7262</td>\n",
       "      <td>1.7136</td>\n",
       "    </tr>\n",
       "    <tr>\n",
       "      <th>6</th>\n",
       "      <td>0</td>\n",
       "      <td>60</td>\n",
       "      <td>0.4744</td>\n",
       "      <td>NaN</td>\n",
       "      <td>NaN</td>\n",
       "      <td>45</td>\n",
       "      <td>60</td>\n",
       "      <td>1.5388</td>\n",
       "      <td>1.5633</td>\n",
       "      <td>1.6009</td>\n",
       "    </tr>\n",
       "    <tr>\n",
       "      <th>7</th>\n",
       "      <td>0</td>\n",
       "      <td>70</td>\n",
       "      <td>0.3267</td>\n",
       "      <td>NaN</td>\n",
       "      <td>NaN</td>\n",
       "      <td>45</td>\n",
       "      <td>70</td>\n",
       "      <td>1.3017</td>\n",
       "      <td>1.3045</td>\n",
       "      <td>1.3441</td>\n",
       "    </tr>\n",
       "    <tr>\n",
       "      <th>8</th>\n",
       "      <td>0</td>\n",
       "      <td>80</td>\n",
       "      <td>0.2408</td>\n",
       "      <td>NaN</td>\n",
       "      <td>NaN</td>\n",
       "      <td>45</td>\n",
       "      <td>80</td>\n",
       "      <td>1.0615</td>\n",
       "      <td>1.0743</td>\n",
       "      <td>1.0588</td>\n",
       "    </tr>\n",
       "    <tr>\n",
       "      <th>9</th>\n",
       "      <td>0</td>\n",
       "      <td>90</td>\n",
       "      <td>0.2461</td>\n",
       "      <td>0.2219</td>\n",
       "      <td>0.2213</td>\n",
       "      <td>45</td>\n",
       "      <td>90</td>\n",
       "      <td>0.8218</td>\n",
       "      <td>0.7787</td>\n",
       "      <td>0.7777</td>\n",
       "    </tr>\n",
       "    <tr>\n",
       "      <th>10</th>\n",
       "      <td>0</td>\n",
       "      <td>100</td>\n",
       "      <td>0.3325</td>\n",
       "      <td>NaN</td>\n",
       "      <td>NaN</td>\n",
       "      <td>45</td>\n",
       "      <td>100</td>\n",
       "      <td>0.5351</td>\n",
       "      <td>0.5356</td>\n",
       "      <td>0.5391</td>\n",
       "    </tr>\n",
       "    <tr>\n",
       "      <th>11</th>\n",
       "      <td>0</td>\n",
       "      <td>110</td>\n",
       "      <td>0.5127</td>\n",
       "      <td>NaN</td>\n",
       "      <td>NaN</td>\n",
       "      <td>45</td>\n",
       "      <td>110</td>\n",
       "      <td>0.3316</td>\n",
       "      <td>0.3111</td>\n",
       "      <td>0.3127</td>\n",
       "    </tr>\n",
       "    <tr>\n",
       "      <th>12</th>\n",
       "      <td>0</td>\n",
       "      <td>120</td>\n",
       "      <td>0.6993</td>\n",
       "      <td>NaN</td>\n",
       "      <td>NaN</td>\n",
       "      <td>45</td>\n",
       "      <td>120</td>\n",
       "      <td>0.1744</td>\n",
       "      <td>0.1731</td>\n",
       "      <td>0.1729</td>\n",
       "    </tr>\n",
       "    <tr>\n",
       "      <th>13</th>\n",
       "      <td>0</td>\n",
       "      <td>130</td>\n",
       "      <td>0.9258</td>\n",
       "      <td>NaN</td>\n",
       "      <td>NaN</td>\n",
       "      <td>45</td>\n",
       "      <td>130</td>\n",
       "      <td>0.1295</td>\n",
       "      <td>0.1319</td>\n",
       "      <td>0.1168</td>\n",
       "    </tr>\n",
       "    <tr>\n",
       "      <th>14</th>\n",
       "      <td>0</td>\n",
       "      <td>140</td>\n",
       "      <td>1.1542</td>\n",
       "      <td>NaN</td>\n",
       "      <td>NaN</td>\n",
       "      <td>45</td>\n",
       "      <td>140</td>\n",
       "      <td>0.1676</td>\n",
       "      <td>0.1692</td>\n",
       "      <td>0.1654</td>\n",
       "    </tr>\n",
       "    <tr>\n",
       "      <th>15</th>\n",
       "      <td>0</td>\n",
       "      <td>150</td>\n",
       "      <td>1.3499</td>\n",
       "      <td>NaN</td>\n",
       "      <td>NaN</td>\n",
       "      <td>45</td>\n",
       "      <td>150</td>\n",
       "      <td>0.3120</td>\n",
       "      <td>0.3121</td>\n",
       "      <td>0.2988</td>\n",
       "    </tr>\n",
       "    <tr>\n",
       "      <th>16</th>\n",
       "      <td>0</td>\n",
       "      <td>160</td>\n",
       "      <td>1.4717</td>\n",
       "      <td>NaN</td>\n",
       "      <td>NaN</td>\n",
       "      <td>45</td>\n",
       "      <td>160</td>\n",
       "      <td>0.5209</td>\n",
       "      <td>0.5111</td>\n",
       "      <td>0.5175</td>\n",
       "    </tr>\n",
       "    <tr>\n",
       "      <th>17</th>\n",
       "      <td>0</td>\n",
       "      <td>170</td>\n",
       "      <td>1.5655</td>\n",
       "      <td>NaN</td>\n",
       "      <td>NaN</td>\n",
       "      <td>45</td>\n",
       "      <td>170</td>\n",
       "      <td>0.7870</td>\n",
       "      <td>0.7747</td>\n",
       "      <td>0.7693</td>\n",
       "    </tr>\n",
       "    <tr>\n",
       "      <th>18</th>\n",
       "      <td>0</td>\n",
       "      <td>180</td>\n",
       "      <td>1.5381</td>\n",
       "      <td>1.5469</td>\n",
       "      <td>1.5658</td>\n",
       "      <td>45</td>\n",
       "      <td>180</td>\n",
       "      <td>1.0644</td>\n",
       "      <td>1.0812</td>\n",
       "      <td>1.0857</td>\n",
       "    </tr>\n",
       "  </tbody>\n",
       "</table>\n",
       "</div>"
      ],
      "text/plain": [
       "    a_pc_0  b_pc_0  nc_pc_0_1  nc_pc_0_2  nc_pc_0_3  a_pc_45  b_pc_45  \\\n",
       "0        0       0     1.9041     1.6957     1.6873       45        0   \n",
       "1        0      10     1.6709        NaN        NaN       45       10   \n",
       "2        0      20     1.5015        NaN        NaN       45       20   \n",
       "3        0      30     1.2353        NaN        NaN       45       30   \n",
       "4        0      40     0.9736        NaN        NaN       45       40   \n",
       "5        0      50     0.7097        NaN        NaN       45       50   \n",
       "6        0      60     0.4744        NaN        NaN       45       60   \n",
       "7        0      70     0.3267        NaN        NaN       45       70   \n",
       "8        0      80     0.2408        NaN        NaN       45       80   \n",
       "9        0      90     0.2461     0.2219     0.2213       45       90   \n",
       "10       0     100     0.3325        NaN        NaN       45      100   \n",
       "11       0     110     0.5127        NaN        NaN       45      110   \n",
       "12       0     120     0.6993        NaN        NaN       45      120   \n",
       "13       0     130     0.9258        NaN        NaN       45      130   \n",
       "14       0     140     1.1542        NaN        NaN       45      140   \n",
       "15       0     150     1.3499        NaN        NaN       45      150   \n",
       "16       0     160     1.4717        NaN        NaN       45      160   \n",
       "17       0     170     1.5655        NaN        NaN       45      170   \n",
       "18       0     180     1.5381     1.5469     1.5658       45      180   \n",
       "\n",
       "    nc_pc_45_1  nc_pc_45_2  nc_pc_45_3  \n",
       "0       1.1696      1.1436      1.1823  \n",
       "1       1.5181      1.4899      1.4951  \n",
       "2       1.6194      1.6321      1.6187  \n",
       "3       1.7549      1.7266      1.7649  \n",
       "4       1.7856      1.7911      1.7772  \n",
       "5       1.7226      1.7262      1.7136  \n",
       "6       1.5388      1.5633      1.6009  \n",
       "7       1.3017      1.3045      1.3441  \n",
       "8       1.0615      1.0743      1.0588  \n",
       "9       0.8218      0.7787      0.7777  \n",
       "10      0.5351      0.5356      0.5391  \n",
       "11      0.3316      0.3111      0.3127  \n",
       "12      0.1744      0.1731      0.1729  \n",
       "13      0.1295      0.1319      0.1168  \n",
       "14      0.1676      0.1692      0.1654  \n",
       "15      0.3120      0.3121      0.2988  \n",
       "16      0.5209      0.5111      0.5175  \n",
       "17      0.7870      0.7747      0.7693  \n",
       "18      1.0644      1.0812      1.0857  "
      ]
     },
     "execution_count": 3,
     "metadata": {},
     "output_type": "execute_result"
    }
   ],
   "source": [
    "data"
   ]
  },
  {
   "cell_type": "code",
   "execution_count": 4,
   "metadata": {},
   "outputs": [
    {
     "data": {
      "text/plain": [
       "<matplotlib.collections.PathCollection at 0x1a22bf0490>"
      ]
     },
     "execution_count": 4,
     "metadata": {},
     "output_type": "execute_result"
    },
    {
     "data": {
      "image/png": "[encoded data removed]",
      "text/plain": [
       "<Figure size 432x288 with 1 Axes>"
      ]
     },
     "metadata": {
      "needs_background": "light"
     },
     "output_type": "display_data"
    }
   ],
   "source": [
    "beta = data['b_pc_45']\n",
    "alpha = data['a_pc_45']\n",
    "Nc = data['nc_pc_45_1']*1000\n",
    "\n",
    "plt.scatter(beta, Nc)"
   ]
  },
  {
   "cell_type": "code",
   "execution_count": 29,
   "metadata": {},
   "outputs": [
    {
     "ename": "SyntaxError",
     "evalue": "invalid syntax (<ipython-input-29-75f25b806e91>, line 1)",
     "output_type": "error",
     "traceback": [
      "\u001b[0;36m  File \u001b[0;32m\"<ipython-input-29-75f25b806e91>\"\u001b[0;36m, line \u001b[0;32m1\u001b[0m\n\u001b[0;31m    C_test =\u001b[0m\n\u001b[0m             ^\u001b[0m\n\u001b[0;31mSyntaxError\u001b[0m\u001b[0;31m:\u001b[0m invalid syntax\n"
     ]
    }
   ],
   "source": [
    "C_test = \n",
    "def N_constance(a, alpha, beta, theta, phim):\n",
    "    a*((np.sin(alpha)**2)(np.sin(x)**2)(np.cos(theta)**2) + (np.cos(alpha)**2)(np.cos(x)**2)(np.sin(theta)**2) + 0.25(np.sin(2*alpha)*np.sin(2*x)*np.sin(2*theta)*np.cos(phim))) + C\n",
    "    #return a * np.sin(b*x + d) + c"
   ]
  },
  {
   "cell_type": "code",
   "execution_count": 128,
   "metadata": {},
   "outputs": [
    {
     "name": "stdout",
     "output_type": "stream",
     "text": [
      "2942.7\n"
     ]
    }
   ],
   "source": [
    "C_raw = 255.9 #N(0,90)\n",
    "A_raw = 1688.8 + 1765.7 + - 2*C_raw #N(0,0) + N(90,90) - 2C\n",
    "print(A_raw)\n",
    "ALPHA = 45"
   ]
  },
  {
   "cell_type": "code",
   "execution_count": 255,
   "metadata": {},
   "outputs": [],
   "source": [
    "def herbert(beta, alpha, Nc, firstGuess = []):\n",
    "    theta = np.radians(firstGuess[0])\n",
    "    phim = np.radians(firstGuess[1])\n",
    "    beta = np.radians(beta)\n",
    "    alpha = np.radians(alpha)\n",
    "    \n",
    "    theta_range = np.arange(theta - 1.0 , theta + 1.0, 0.05)\n",
    "    phim_range = np.arange(phim - 1.0 , phim + 1.0, 0.05)\n",
    "\n",
    "    optim_theta = 0\n",
    "    optim_phim = 0\n",
    "    \n",
    "    #score = (N_global(beta, A_raw, alpha, theta - 1.0, phim - 1.0, C_raw) - Nc)**2\n",
    "    \n",
    "    scoreboard = 1000000000000000000000000\n",
    "    \n",
    "    for i in range(len(theta_range)):\n",
    "        for j in range(len(phim_range)):\n",
    "            #candidate evaluation starts\n",
    "            sum_lsq = 0\n",
    "            for k in range(len(beta)):\n",
    "                lsq = (N_global(beta[k], A_raw, ALPHA, theta_range[i], phim_range[j], C_raw) - Nc[k])**2\n",
    "                sum_lsq += lsq\n",
    "                #print(sum_lsq)\n",
    "            \n",
    "            if(sum_lsq < scoreboard):\n",
    "                #print(\"surpassed scoreboard\")\n",
    "                scoreboard = sum_lsq\n",
    "                optim_theta = theta_range[i]\n",
    "                optim_phim = phim_range[j]\n",
    "                \n",
    "    return optim_theta, optim_phim\n",
    "        \n",
    "    "
   ]
  },
  {
   "cell_type": "code",
   "execution_count": 253,
   "metadata": {},
   "outputs": [],
   "source": [
    "def N_global(x, A, alpha, theta, phim, C):\n",
    "    alpha = np.radians(alpha)\n",
    "    #alpha = np.pi/4\n",
    "    x = np.radians(x)\n",
    "    theta = np.radians(theta)\n",
    "    phim = np.radians(phim)\n",
    "\n",
    "    return A * (( (np.sin(alpha)**2)*(np.sin(x)**2)*(np.cos(theta)**2) + (np.cos(alpha)**2)*(np.cos(x)**2)*(np.sin(theta)**2)) + 0.25*(np.sin(2*alpha)*np.sin(2*x)*np.sin(2*theta)*np.cos(phim))) + C\n",
    "\n"
   ]
  },
  {
   "cell_type": "code",
   "execution_count": 254,
   "metadata": {
    "scrolled": true
   },
   "outputs": [
    {
     "name": "stdout",
     "output_type": "stream",
     "text": [
      "[-0.21460184 -0.20460184 -0.19460184 -0.18460184 -0.17460184 -0.16460184\n",
      " -0.15460184 -0.14460184 -0.13460184 -0.12460184 -0.11460184 -0.10460184\n",
      " -0.09460184 -0.08460184 -0.07460184 -0.06460184 -0.05460184 -0.04460184\n",
      " -0.03460184 -0.02460184 -0.01460184 -0.00460184  0.00539816  0.01539816\n",
      "  0.02539816  0.03539816  0.04539816  0.05539816  0.06539816  0.07539816\n",
      "  0.08539816  0.09539816  0.10539816  0.11539816  0.12539816  0.13539816\n",
      "  0.14539816  0.15539816  0.16539816  0.17539816  0.18539816  0.19539816\n",
      "  0.20539816  0.21539816  0.22539816  0.23539816  0.24539816  0.25539816\n",
      "  0.26539816  0.27539816  0.28539816  0.29539816  0.30539816  0.31539816\n",
      "  0.32539816  0.33539816  0.34539816  0.35539816  0.36539816  0.37539816\n",
      "  0.38539816  0.39539816  0.40539816  0.41539816  0.42539816  0.43539816\n",
      "  0.44539816  0.45539816  0.46539816  0.47539816  0.48539816  0.49539816\n",
      "  0.50539816  0.51539816  0.52539816  0.53539816  0.54539816  0.55539816\n",
      "  0.56539816  0.57539816  0.58539816  0.59539816  0.60539816  0.61539816\n",
      "  0.62539816  0.63539816  0.64539816  0.65539816  0.66539816  0.67539816\n",
      "  0.68539816  0.69539816  0.70539816  0.71539816  0.72539816  0.73539816\n",
      "  0.74539816  0.75539816  0.76539816  0.77539816  0.78539816  0.79539816\n",
      "  0.80539816  0.81539816  0.82539816  0.83539816  0.84539816  0.85539816\n",
      "  0.86539816  0.87539816  0.88539816  0.89539816  0.90539816  0.91539816\n",
      "  0.92539816  0.93539816  0.94539816  0.95539816  0.96539816  0.97539816\n",
      "  0.98539816  0.99539816  1.00539816  1.01539816  1.02539816  1.03539816\n",
      "  1.04539816  1.05539816  1.06539816  1.07539816  1.08539816  1.09539816\n",
      "  1.10539816  1.11539816  1.12539816  1.13539816  1.14539816  1.15539816\n",
      "  1.16539816  1.17539816  1.18539816  1.19539816  1.20539816  1.21539816\n",
      "  1.22539816  1.23539816  1.24539816  1.25539816  1.26539816  1.27539816\n",
      "  1.28539816  1.29539816  1.30539816  1.31539816  1.32539816  1.33539816\n",
      "  1.34539816  1.35539816  1.36539816  1.37539816  1.38539816  1.39539816\n",
      "  1.40539816  1.41539816  1.42539816  1.43539816  1.44539816  1.45539816\n",
      "  1.46539816  1.47539816  1.48539816  1.49539816  1.50539816  1.51539816\n",
      "  1.52539816  1.53539816  1.54539816  1.55539816  1.56539816  1.57539816\n",
      "  1.58539816  1.59539816  1.60539816  1.61539816  1.62539816  1.63539816\n",
      "  1.64539816  1.65539816  1.66539816  1.67539816  1.68539816  1.69539816\n",
      "  1.70539816  1.71539816  1.72539816  1.73539816  1.74539816  1.75539816\n",
      "  1.76539816  1.77539816]\n",
      "101.7228217179516\n",
      "0.010000000000050267\n"
     ]
    },
    {
     "data": {
      "image/png": "[encoded data removed]",
      "text/plain": [
       "<Figure size 432x288 with 1 Axes>"
      ]
     },
     "metadata": {
      "needs_background": "light"
     },
     "output_type": "display_data"
    }
   ],
   "source": [
    "optimized_theta, optimized_phim = herbert(beta, alpha, Nc, firstGuess=[45.0, 0.01])\n",
    "print(np.degrees(optimized_theta))\n",
    "print(np.degrees(optimized_phim))\n",
    "\n",
    "params = [4000, 45, 45, 10, 40]\n",
    "plt.scatter(beta, Nc, label='Data')\n",
    "plt.plot(beta, N_global(beta, 2942.7, 45, optimized_theta, optimized_phim, 255.9))\n",
    "plt.legend(loc='best')\n",
    "#plt.ylim(1020, 1050)\n",
    "\n",
    "plt.show()"
   ]
  },
  {
   "cell_type": "code",
   "execution_count": 229,
   "metadata": {
    "scrolled": true
   },
   "outputs": [
    {
     "data": {
      "image/png": "[encoded data removed]",
      "text/plain": [
       "<Figure size 432x288 with 1 Axes>"
      ]
     },
     "metadata": {
      "needs_background": "light"
     },
     "output_type": "display_data"
    }
   ],
   "source": [
    "params = [4000, 45, 45, 10, 40]\n",
    "plt.scatter(beta, Nc, label='Data')\n",
    "plt.plot(beta, N_global(beta, 2942.7, 45, 45, 0.01, 255.9))\n",
    "plt.legend(loc='best')\n",
    "#plt.ylim(1020, 1050)\n",
    "\n",
    "plt.show()"
   ]
  },
  {
   "cell_type": "code",
   "execution_count": 56,
   "metadata": {
    "scrolled": true
   },
   "outputs": [
    {
     "ename": "RuntimeError",
     "evalue": "Optimal parameters not found: Number of calls to function has reached maxfev = 1200.",
     "output_type": "error",
     "traceback": [
      "\u001b[0;31m---------------------------------------------------------------------------\u001b[0m",
      "\u001b[0;31mRuntimeError\u001b[0m                              Traceback (most recent call last)",
      "\u001b[0;32m<ipython-input-56-148ba43dfc02>\u001b[0m in \u001b[0;36m<module>\u001b[0;34m()\u001b[0m\n\u001b[0;32m----> 1\u001b[0;31m \u001b[0mparams\u001b[0m\u001b[0;34m,\u001b[0m \u001b[0mparams_covariance\u001b[0m \u001b[0;34m=\u001b[0m \u001b[0moptimize\u001b[0m\u001b[0;34m.\u001b[0m\u001b[0mcurve_fit\u001b[0m\u001b[0;34m(\u001b[0m\u001b[0mN_global\u001b[0m\u001b[0;34m,\u001b[0m \u001b[0mbeta\u001b[0m\u001b[0;34m,\u001b[0m \u001b[0mNc\u001b[0m\u001b[0;34m,\u001b[0m \u001b[0mp0\u001b[0m\u001b[0;34m=\u001b[0m\u001b[0;34m[\u001b[0m\u001b[0;36m4000\u001b[0m\u001b[0;34m,\u001b[0m \u001b[0;36m45\u001b[0m\u001b[0;34m,\u001b[0m \u001b[0;36m45\u001b[0m\u001b[0;34m,\u001b[0m \u001b[0;36m10\u001b[0m\u001b[0;34m,\u001b[0m \u001b[0;36m40\u001b[0m\u001b[0;34m]\u001b[0m\u001b[0;34m)\u001b[0m\u001b[0;34m\u001b[0m\u001b[0m\n\u001b[0m\u001b[1;32m      2\u001b[0m \u001b[0;31m#print(params)\u001b[0m\u001b[0;34m\u001b[0m\u001b[0;34m\u001b[0m\u001b[0m\n\u001b[1;32m      3\u001b[0m \u001b[0;31m#p0=[500, 45, 45, 20, 0.1]) this got us close\u001b[0m\u001b[0;34m\u001b[0m\u001b[0;34m\u001b[0m\u001b[0m\n\u001b[1;32m      4\u001b[0m \u001b[0;31m#params = [4000, 45, 45, 10, 40]\u001b[0m\u001b[0;34m\u001b[0m\u001b[0;34m\u001b[0m\u001b[0m\n",
      "\u001b[0;32m/opt/miniconda2/lib/python2.7/site-packages/scipy/optimize/minpack.pyc\u001b[0m in \u001b[0;36mcurve_fit\u001b[0;34m(f, xdata, ydata, p0, sigma, absolute_sigma, check_finite, bounds, method, jac, **kwargs)\u001b[0m\n\u001b[1;32m    746\u001b[0m         \u001b[0mcost\u001b[0m \u001b[0;34m=\u001b[0m \u001b[0mnp\u001b[0m\u001b[0;34m.\u001b[0m\u001b[0msum\u001b[0m\u001b[0;34m(\u001b[0m\u001b[0minfodict\u001b[0m\u001b[0;34m[\u001b[0m\u001b[0;34m'fvec'\u001b[0m\u001b[0;34m]\u001b[0m \u001b[0;34m**\u001b[0m \u001b[0;36m2\u001b[0m\u001b[0;34m)\u001b[0m\u001b[0;34m\u001b[0m\u001b[0m\n\u001b[1;32m    747\u001b[0m         \u001b[0;32mif\u001b[0m \u001b[0mier\u001b[0m \u001b[0;32mnot\u001b[0m \u001b[0;32min\u001b[0m \u001b[0;34m[\u001b[0m\u001b[0;36m1\u001b[0m\u001b[0;34m,\u001b[0m \u001b[0;36m2\u001b[0m\u001b[0;34m,\u001b[0m \u001b[0;36m3\u001b[0m\u001b[0;34m,\u001b[0m \u001b[0;36m4\u001b[0m\u001b[0;34m]\u001b[0m\u001b[0;34m:\u001b[0m\u001b[0;34m\u001b[0m\u001b[0m\n\u001b[0;32m--> 748\u001b[0;31m             \u001b[0;32mraise\u001b[0m \u001b[0mRuntimeError\u001b[0m\u001b[0;34m(\u001b[0m\u001b[0;34m\"Optimal parameters not found: \"\u001b[0m \u001b[0;34m+\u001b[0m \u001b[0merrmsg\u001b[0m\u001b[0;34m)\u001b[0m\u001b[0;34m\u001b[0m\u001b[0m\n\u001b[0m\u001b[1;32m    749\u001b[0m     \u001b[0;32melse\u001b[0m\u001b[0;34m:\u001b[0m\u001b[0;34m\u001b[0m\u001b[0m\n\u001b[1;32m    750\u001b[0m         \u001b[0;31m# Rename maxfev (leastsq) to max_nfev (least_squares), if specified.\u001b[0m\u001b[0;34m\u001b[0m\u001b[0;34m\u001b[0m\u001b[0m\n",
      "\u001b[0;31mRuntimeError\u001b[0m: Optimal parameters not found: Number of calls to function has reached maxfev = 1200."
     ]
    }
   ],
   "source": [
    "params, params_covariance = optimize.curve_fit(N_global, beta, Nc, p0=[4000, 45, 45, 10, 40])\n",
    "#print(params)\n",
    "#p0=[500, 45, 45, 20, 0.1]) this got us close\n",
    "#params = [4000, 45, 45, 10, 40]"
   ]
  },
  {
   "cell_type": "code",
   "execution_count": 48,
   "metadata": {},
   "outputs": [
    {
     "data": {
      "image/png": "[encoded data removed]",
      "text/plain": [
       "<Figure size 432x288 with 1 Axes>"
      ]
     },
     "metadata": {
      "needs_background": "light"
     },
     "output_type": "display_data"
    }
   ],
   "source": [
    "#plt.figure(figsize=(6, 4))\n",
    "params = [4000, 45, 45, 10, 40]\n",
    "plt.scatter(beta, Nc, label='Data')\n",
    "#plt.plot(beta, N_global(beta, params[0], params[1], params[2], params[3], params[4]),\n",
    "         #label='Fitted function')\n",
    "plt.plot(beta, N_global(beta, ))\n",
    "plt.legend(loc='best')\n",
    "#plt.ylim(1020, 1050)\n",
    "\n",
    "plt.show()"
   ]
  },
  {
   "cell_type": "code",
   "execution_count": null,
   "metadata": {},
   "outputs": [],
   "source": []
  },
  {
   "cell_type": "code",
   "execution_count": 251,
   "metadata": {},
   "outputs": [],
   "source": [
    "#lam = float(18.3165/18)\n",
    "#error = scipy.stats.poisson(lam, size=len(beta))\n",
    "xerr = beta #is this true?\n",
    "yerr = np.zeros(len(Nc))\n",
    "for i in range(len(Nc)):\n",
    "    yerr[i] = np.sqrt(Nc[i])\n",
    "    \n"
   ]
  },
  {
   "cell_type": "code",
   "execution_count": null,
   "metadata": {},
   "outputs": [],
   "source": []
  },
  {
   "cell_type": "code",
   "execution_count": 55,
   "metadata": {},
   "outputs": [],
   "source": [
    "def red_chisq(o, c, var, n, m):\n",
    "    v = n - m\n",
    "    chi = 0\n",
    "    for i in range(0,18):\n",
    "        chi = chi + ( (o[i] - c[i])**2) / (var[i]**2)\n",
    "        #print(o[i]-c[i])\n",
    "        print((o[i]-c[i])**2/var[i]**2)\n",
    "    return chi / v\n",
    "\n",
    "#red_chisq(Nc, test_func(beta, params[0], params[1], params[2], params[3]), yerr, 19, 3)"
   ]
  },
  {
   "cell_type": "code",
   "execution_count": null,
   "metadata": {},
   "outputs": [],
   "source": []
  },
  {
   "cell_type": "code",
   "execution_count": null,
   "metadata": {},
   "outputs": [],
   "source": []
  },
  {
   "cell_type": "code",
   "execution_count": 219,
   "metadata": {},
   "outputs": [
    {
     "data": {
      "image/png": "[encoded data removed]",
      "text/plain": [
       "<Figure size 432x288 with 1 Axes>"
      ]
     },
     "metadata": {
      "needs_background": "light"
     },
     "output_type": "display_data"
    }
   ],
   "source": [
    "#plt.figure(figsize=(6, 4))\n",
    "plt.scatter(beta, Nc, label='Data')\n",
    "plt.errorbar(beta, test_func(beta, params[0], params[1], params[2], params[3]), yerr=yerr,\n",
    "         label='Fitted function')\n",
    "plt.legend(loc='best')\n",
    "\n",
    "plt.show()"
   ]
  },
  {
   "cell_type": "code",
   "execution_count": null,
   "metadata": {},
   "outputs": [],
   "source": []
  },
  {
   "cell_type": "code",
   "execution_count": null,
   "metadata": {},
   "outputs": [],
   "source": []
  }
 ],
 "metadata": {
  "kernelspec": {
   "display_name": "Python 2",
   "language": "python",
   "name": "python2"
  },
  "language_info": {
   "codemirror_mode": {
    "name": "ipython",
    "version": 2
   },
   "file_extension": ".py",
   "mimetype": "text/x-python",
   "name": "python",
   "nbconvert_exporter": "python",
   "pygments_lexer": "ipython2",
   "version": "2.7.17"
  }
 },
 "nbformat": 4,
 "nbformat_minor": 2
}
